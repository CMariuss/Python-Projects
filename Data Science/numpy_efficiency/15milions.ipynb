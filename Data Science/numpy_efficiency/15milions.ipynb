{
 "cells": [
  {
   "cell_type": "markdown",
   "metadata": {},
   "source": [
    "This notebook shows the use of the numpy library in extreme conditions"
   ]
  },
  {
   "cell_type": "markdown",
   "metadata": {},
   "source": [
    "Import necesary libraries"
   ]
  },
  {
   "cell_type": "code",
   "execution_count": 1,
   "metadata": {},
   "outputs": [],
   "source": [
    "import numpy as np\n",
    "import timeit"
   ]
  },
  {
   "cell_type": "markdown",
   "metadata": {},
   "source": [
    "Generate 15 milion random values between 1 and 100 and store it in 'random_values' variable "
   ]
  },
  {
   "cell_type": "code",
   "execution_count": 2,
   "metadata": {},
   "outputs": [],
   "source": [
    "random_values = np.random.randint(1, 100, size=15000000)"
   ]
  },
  {
   "cell_type": "markdown",
   "metadata": {},
   "source": [
    "Calculate --100 times-- the sum of --15 million values-- using --two different functions-- and print the --runtime-- for each method"
   ]
  },
  {
   "cell_type": "markdown",
   "metadata": {},
   "source": [
    "Clasic sum() function runtime"
   ]
  },
  {
   "cell_type": "code",
   "execution_count": 3,
   "metadata": {},
   "outputs": [
    {
     "name": "stdout",
     "output_type": "stream",
     "text": [
      "Runtime: 98.75 seconds\n"
     ]
    }
   ],
   "source": [
    "# calculate the runtime\n",
    "clasic_sum_time = timeit.timeit('sum(random_values)', globals=globals(), number=100)\n",
    "\n",
    "# keep only two decimal places for simplicity\n",
    "clasic_sum_time = round(clasic_sum_time, 2)\n",
    "\n",
    "# print the result\n",
    "print('Runtime:', clasic_sum_time, 'seconds')"
   ]
  },
  {
   "cell_type": "markdown",
   "metadata": {},
   "source": [
    "The numpy sum() function runtime"
   ]
  },
  {
   "cell_type": "code",
   "execution_count": 4,
   "metadata": {},
   "outputs": [
    {
     "name": "stdout",
     "output_type": "stream",
     "text": [
      "Runtime: 0.83 seconds\n"
     ]
    }
   ],
   "source": [
    "# calculate the runtime\n",
    "numpy_sum_time = timeit.timeit('np.sum(random_values)', globals=globals(), number=100)\n",
    "\n",
    "# keep only two decimal places for simplicity\n",
    "numpy_sum_time = round(numpy_sum_time, 2)\n",
    "\n",
    "# print the result\n",
    "print('Runtime:', numpy_sum_time, 'seconds')\n"
   ]
  }
 ],
 "metadata": {
  "kernelspec": {
   "display_name": "Python 3",
   "language": "python",
   "name": "python3"
  },
  "language_info": {
   "codemirror_mode": {
    "name": "ipython",
    "version": 3
   },
   "file_extension": ".py",
   "mimetype": "text/x-python",
   "name": "python",
   "nbconvert_exporter": "python",
   "pygments_lexer": "ipython3",
   "version": "3.13.0"
  }
 },
 "nbformat": 4,
 "nbformat_minor": 2
}
