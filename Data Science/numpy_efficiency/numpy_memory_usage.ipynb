{
 "cells": [
  {
   "cell_type": "markdown",
   "metadata": {},
   "source": [
    "In this notebook I will present the same experiment as in the 'numpy_runtime' example, but with memory usage and a diferent column from the same database\n",
    "\n",
    "Used libraries\n",
    "\n",
    "1. numpy\n",
    "2. pandas\n",
    "3. tracemalloc\n",
    "4. matplotlib\n",
    "\n",
    "The database is from Kaggle ..."
   ]
  },
  {
   "cell_type": "markdown",
   "metadata": {},
   "source": [
    "Import the necesary libraries"
   ]
  },
  {
   "cell_type": "code",
   "execution_count": 41,
   "metadata": {},
   "outputs": [],
   "source": [
    "import numpy as np\n",
    "import pandas as pd\n",
    "import tracemalloc\n",
    "import matplotlib.pyplot as plt"
   ]
  },
  {
   "cell_type": "markdown",
   "metadata": {},
   "source": [
    "Fetch data from a database and store it inside a DataFrame"
   ]
  },
  {
   "cell_type": "code",
   "execution_count": 42,
   "metadata": {},
   "outputs": [],
   "source": [
    "solar_yield = pd.read_csv('database/Solar_Generation_Data.csv')"
   ]
  },
  {
   "cell_type": "markdown",
   "metadata": {},
   "source": [
    "Get the column 'DAILY_YIELD' from 'solar_yield' DataFrame and store it inside a numpy array"
   ]
  },
  {
   "cell_type": "code",
   "execution_count": 43,
   "metadata": {},
   "outputs": [],
   "source": [
    "daily_yield_array = solar_yield['AC_POWER']\n",
    "daily_yield_np_array = np.array(solar_yield['AC_POWER'])"
   ]
  },
  {
   "cell_type": "markdown",
   "metadata": {},
   "source": [
    "Square using 2 diferent methods the values from 'DAILY_YIELD' column and calculate the necesary memory for this operation"
   ]
  },
  {
   "cell_type": "markdown",
   "metadata": {},
   "source": [
    "Start the memory calculation with the start() function from 'tracemalloc' library"
   ]
  },
  {
   "cell_type": "code",
   "execution_count": 44,
   "metadata": {},
   "outputs": [],
   "source": [
    "tracemalloc.start()"
   ]
  },
  {
   "cell_type": "markdown",
   "metadata": {},
   "source": [
    "Square values from 'daily_yield_array' using clasic python method"
   ]
  },
  {
   "cell_type": "code",
   "execution_count": 45,
   "metadata": {},
   "outputs": [],
   "source": [
    "# sqare the values from daily_yield_array\n",
    "# square = 2 ** daily_yield_array[0:500]\n",
    "for i in range(100):\n",
    "    clasic_sum = sum(daily_yield_np_array[0:100])\n",
    "    sqare = 2 ** clasic_sum"
   ]
  },
  {
   "cell_type": "markdown",
   "metadata": {},
   "source": [
    "Calculate the used memory"
   ]
  },
  {
   "cell_type": "code",
   "execution_count": 46,
   "metadata": {},
   "outputs": [
    {
     "name": "stdout",
     "output_type": "stream",
     "text": [
      "\n",
      "Size:  37623 bytes\n",
      "Peak:  70248 bytes\n",
      "\n"
     ]
    }
   ],
   "source": [
    "# calculate the necesary memory\n",
    "classic_sqare_size, clasic_sqare_peak = tracemalloc.get_traced_memory()\n",
    "\n",
    "# reset the memory calculation\n",
    "tracemalloc.clear_traces()\n",
    "\n",
    "# print the used memory\n",
    "print('\\nSize: ', classic_sqare_size, 'bytes')\n",
    "print('Peak: ', clasic_sqare_peak, 'bytes\\n')"
   ]
  },
  {
   "cell_type": "markdown",
   "metadata": {},
   "source": [
    "Square values from 'daily_yield_array' using numpy.power() function"
   ]
  },
  {
   "cell_type": "code",
   "execution_count": 47,
   "metadata": {},
   "outputs": [],
   "source": [
    "# np.power(2, daily_yield_array[0:500], out=square)\n",
    "for i in range(100):\n",
    "    np_sum = np.sum(daily_yield_np_array[0:100])\n",
    "    sqare = np.power(2, np_sum)"
   ]
  },
  {
   "cell_type": "markdown",
   "metadata": {},
   "source": [
    "Calculate the allocated memory"
   ]
  },
  {
   "cell_type": "code",
   "execution_count": 48,
   "metadata": {},
   "outputs": [
    {
     "name": "stdout",
     "output_type": "stream",
     "text": [
      "\n",
      "Size:  36087 bytes\n",
      "Peak:  67293 bytes\n",
      "\n"
     ]
    }
   ],
   "source": [
    "np_sqare_size, np_sqare_peak = tracemalloc.get_traced_memory()\n",
    "\n",
    "# print the memory consumption\n",
    "print('\\nSize: ', np_sqare_size, 'bytes')\n",
    "print('Peak: ', np_sqare_peak, 'bytes\\n')"
   ]
  },
  {
   "cell_type": "markdown",
   "metadata": {},
   "source": [
    "Stop the memory consumption calculation using the tracemalloc.stop() function"
   ]
  },
  {
   "cell_type": "code",
   "execution_count": 49,
   "metadata": {},
   "outputs": [],
   "source": [
    "tracemalloc.stop()"
   ]
  },
  {
   "cell_type": "markdown",
   "metadata": {},
   "source": [
    "Show the results in a 'matplotlib' graph"
   ]
  },
  {
   "cell_type": "markdown",
   "metadata": {},
   "source": [
    "Setting the graph"
   ]
  },
  {
   "cell_type": "code",
   "execution_count": 50,
   "metadata": {},
   "outputs": [
    {
     "data": {
      "text/plain": [
       "Text(0.5, 0, 'Memory in bytes')"
      ]
     },
     "execution_count": 50,
     "metadata": {},
     "output_type": "execute_result"
    },
    {
     "data": {
      "image/png": "[encoded data removed]",
      "text/plain": [
       "<Figure size 640x480 with 1 Axes>"
      ]
     },
     "metadata": {},
     "output_type": "display_data"
    }
   ],
   "source": [
    "labels = ['clasic square', 'np.power()']\n",
    "values = [clasic_sqare_peak, np_sqare_peak]\n",
    "colors = ['orange', 'lightgreen']\n",
    "\n",
    "plt.barh(labels, values, color=colors)\n",
    "\n",
    "# seting the graph title\n",
    "plt.title('Memory usage diference between classic method and np.power() function')\n",
    "# seting the label for the x axis\n",
    "plt.xlabel('Memory in bytes')"
   ]
  },
  {
   "cell_type": "markdown",
   "metadata": {},
   "source": [
    "Conclusion"
   ]
  }
 ],
 "metadata": {
  "kernelspec": {
   "display_name": "Python 3",
   "language": "python",
   "name": "python3"
  },
  "language_info": {
   "codemirror_mode": {
    "name": "ipython",
    "version": 3
   },
   "file_extension": ".py",
   "mimetype": "text/x-python",
   "name": "python",
   "nbconvert_exporter": "python",
   "pygments_lexer": "ipython3",
   "version": "3.13.0"
  }
 },
 "nbformat": 4,
 "nbformat_minor": 2
}
