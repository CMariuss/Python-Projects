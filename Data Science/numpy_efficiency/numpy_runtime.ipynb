{
 "cells": [
  {
   "cell_type": "markdown",
   "metadata": {},
   "source": [
    "This notebook shows how efficient numpy library in terms of runtime\n",
    "\n",
    "Used libraries\n",
    "\n",
    "1. numpy\n",
    "2. pandas\n",
    "3. timeit\n",
    "4. matplotlib"
   ]
  },
  {
   "cell_type": "markdown",
   "metadata": {},
   "source": [
    "Import necesary libraries"
   ]
  },
  {
   "cell_type": "code",
   "execution_count": 7,
   "metadata": {},
   "outputs": [],
   "source": [
    "import numpy as np\n",
    "import pandas as pd\n",
    "import timeit\n",
    "import matplotlib.pyplot as plt"
   ]
  },
  {
   "cell_type": "markdown",
   "metadata": {},
   "source": [
    "Fetch data from a database and store it inside a DataFrame"
   ]
  },
  {
   "cell_type": "code",
   "execution_count": 2,
   "metadata": {},
   "outputs": [],
   "source": [
    "solar_yield = pd.read_csv('database/Solar_Generation_Data.csv')"
   ]
  },
  {
   "cell_type": "markdown",
   "metadata": {},
   "source": [
    "Get the column 'AC_POWER' from 'solar_yield' DataFrame and store it inside a numpy array"
   ]
  },
  {
   "cell_type": "code",
   "execution_count": 3,
   "metadata": {},
   "outputs": [],
   "source": [
    "ac_power_array = np.array(solar_yield['AC_POWER'])"
   ]
  },
  {
   "cell_type": "markdown",
   "metadata": {},
   "source": [
    "Get the sum of all values in the 'AC_POWER' column using 2 diferent methods and calculate the runtime for each method"
   ]
  },
  {
   "cell_type": "markdown",
   "metadata": {},
   "source": [
    "Using clasic sum() python function"
   ]
  },
  {
   "cell_type": "code",
   "execution_count": 4,
   "metadata": {},
   "outputs": [
    {
     "name": "stdout",
     "output_type": "stream",
     "text": [
      "Runtime:  5.501285185000597 sec\n"
     ]
    }
   ],
   "source": [
    "# calculate the runtime with clasic sum() function\n",
    "clasic_sum_runtime = timeit.timeit('sum(ac_power_array)', globals=globals(), number=1000)\n",
    "\n",
    "# print the runtime\n",
    "print('Runtime: ', clasic_sum_runtime, 'sec')"
   ]
  },
  {
   "cell_type": "markdown",
   "metadata": {},
   "source": [
    "Using numpy.sum() function"
   ]
  },
  {
   "cell_type": "code",
   "execution_count": 5,
   "metadata": {},
   "outputs": [
    {
     "name": "stdout",
     "output_type": "stream",
     "text": [
      "Runtime:  0.03437440899961075 sec\n"
     ]
    }
   ],
   "source": [
    "# calculate the runtime with clasic sum() function\n",
    "numpy_sum_runtime = timeit.timeit('np.sum(ac_power_array)', globals=globals(), number=1000)\n",
    "\n",
    "# print the runtime\n",
    "print('Runtime: ', numpy_sum_runtime, 'sec')"
   ]
  },
  {
   "cell_type": "markdown",
   "metadata": {},
   "source": [
    "Show the results in a graph"
   ]
  },
  {
   "cell_type": "code",
   "execution_count": 6,
   "metadata": {},
   "outputs": [
    {
     "data": {
      "text/plain": [
       "Text(0.5, 0, 'Runtime in seconds')"
      ]
     },
     "execution_count": 6,
     "metadata": {},
     "output_type": "execute_result"
    },
    {
     "data": {
      "image/png": "[encoded data removed]",
      "text/plain": [
       "<Figure size 640x480 with 1 Axes>"
      ]
     },
     "metadata": {},
     "output_type": "display_data"
    }
   ],
   "source": [
    "# Setting the graph\n",
    "labels = ['sum()', 'np.sum()']\n",
    "values = [clasic_sum_runtime, numpy_sum_runtime]\n",
    "colors = ['lightgreen', 'red']\n",
    "\n",
    "plt.barh(labels, values, color=colors)\n",
    "\n",
    "# seting the graph title\n",
    "plt.title('Runtime diference between classic and numpy sum() functions')\n",
    "# seting the label for the x axis\n",
    "plt.xlabel('Runtime in seconds')"
   ]
  },
  {
   "cell_type": "markdown",
   "metadata": {},
   "source": [
    "The differnce is so big that it is hard to see the column representing the runtime with numpy.sum() function"
   ]
  },
  {
   "cell_type": "markdown",
   "metadata": {},
   "source": [
    "Conclusion"
   ]
  }
 ],
 "metadata": {
  "kernelspec": {
   "display_name": "Python 3",
   "language": "python",
   "name": "python3"
  },
  "language_info": {
   "codemirror_mode": {
    "name": "ipython",
    "version": 3
   },
   "file_extension": ".py",
   "mimetype": "text/x-python",
   "name": "python",
   "nbconvert_exporter": "python",
   "pygments_lexer": "ipython3",
   "version": "3.13.0"
  }
 },
 "nbformat": 4,
 "nbformat_minor": 2
}
